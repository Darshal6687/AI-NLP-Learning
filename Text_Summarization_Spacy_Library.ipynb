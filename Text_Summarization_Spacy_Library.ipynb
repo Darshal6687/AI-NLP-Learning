{
  "nbformat": 4,
  "nbformat_minor": 0,
  "metadata": {
    "colab": {
      "provenance": []
    },
    "kernelspec": {
      "name": "python3",
      "display_name": "Python 3"
    },
    "language_info": {
      "name": "python"
    }
  },
  "cells": [
    {
      "cell_type": "code",
      "execution_count": 1,
      "metadata": {
        "id": "xv477CQqfRxY"
      },
      "outputs": [],
      "source": [
        "import spacy\n",
        "nlp = spacy.load(\"en_core_web_sm\")\n",
        "doc = nlp(\"data science and ai has great carrer ahead\")"
      ]
    },
    {
      "cell_type": "code",
      "source": [
        "doc"
      ],
      "metadata": {
        "colab": {
          "base_uri": "https://localhost:8080/"
        },
        "id": "GGWL4KfXfuVT",
        "outputId": "1c9d6a2f-ff05-43c4-fb67-de8a790b47f1"
      },
      "execution_count": 2,
      "outputs": [
        {
          "output_type": "execute_result",
          "data": {
            "text/plain": [
              "data science and ai has great carrer ahead"
            ]
          },
          "metadata": {},
          "execution_count": 2
        }
      ]
    },
    {
      "cell_type": "code",
      "source": [
        "for token in doc:\n",
        "  print(token.text)"
      ],
      "metadata": {
        "colab": {
          "base_uri": "https://localhost:8080/"
        },
        "id": "wzsleS5efuX7",
        "outputId": "dea57e0a-e533-46da-fd2d-235f71948bce"
      },
      "execution_count": 3,
      "outputs": [
        {
          "output_type": "stream",
          "name": "stdout",
          "text": [
            "data\n",
            "science\n",
            "and\n",
            "ai\n",
            "has\n",
            "great\n",
            "carrer\n",
            "ahead\n"
          ]
        }
      ]
    },
    {
      "cell_type": "code",
      "source": [
        "import spacy\n",
        "nlp = spacy.load(\"en_core_web_sm\")\n",
        "doc = nlp(\"Apple is looking at buying U.K startup for $1 billion\")\n",
        "\n",
        "for token in doc:\n",
        "  print(token.text,token.lemma_,token.pos_,token.tag_,token.dep_,token.shape_,token.is_alpha,token.is_stop)"
      ],
      "metadata": {
        "colab": {
          "base_uri": "https://localhost:8080/"
        },
        "id": "yQsm9buAfuaj",
        "outputId": "7f613901-4376-4e06-c4c3-7c1da39a7e41"
      },
      "execution_count": 4,
      "outputs": [
        {
          "output_type": "stream",
          "name": "stdout",
          "text": [
            "Apple Apple PROPN NNP nsubj Xxxxx True False\n",
            "is be AUX VBZ aux xx True True\n",
            "looking look VERB VBG ROOT xxxx True False\n",
            "at at ADP IN prep xx True True\n",
            "buying buy VERB VBG pcomp xxxx True False\n",
            "U.K U.K PROPN NNP dobj X.X False False\n",
            "startup startup VERB VBD advcl xxxx True False\n",
            "for for ADP IN prep xxx True True\n",
            "$ $ SYM $ quantmod $ False False\n",
            "1 1 NUM CD compound d False False\n",
            "billion billion NUM CD pobj xxxx True False\n"
          ]
        }
      ]
    },
    {
      "cell_type": "code",
      "source": [
        "for token in doc:\n",
        "  print(token.pos_)"
      ],
      "metadata": {
        "colab": {
          "base_uri": "https://localhost:8080/"
        },
        "id": "c3YQMKWBfueB",
        "outputId": "345f8103-dd94-4fc8-b8bd-da9f59fbba55"
      },
      "execution_count": 6,
      "outputs": [
        {
          "output_type": "stream",
          "name": "stdout",
          "text": [
            "PROPN\n",
            "AUX\n",
            "VERB\n",
            "ADP\n",
            "VERB\n",
            "PROPN\n",
            "VERB\n",
            "ADP\n",
            "SYM\n",
            "NUM\n",
            "NUM\n"
          ]
        }
      ]
    },
    {
      "cell_type": "code",
      "source": [
        "for token in doc:\n",
        "  print(token.text,token.pos_)"
      ],
      "metadata": {
        "colab": {
          "base_uri": "https://localhost:8080/"
        },
        "id": "zqYyOc2Oie6Z",
        "outputId": "372aa30e-3a5d-4b8a-90b2-0e72130dd0d9"
      },
      "execution_count": 7,
      "outputs": [
        {
          "output_type": "stream",
          "name": "stdout",
          "text": [
            "Apple PROPN\n",
            "is AUX\n",
            "looking VERB\n",
            "at ADP\n",
            "buying VERB\n",
            "U.K PROPN\n",
            "startup VERB\n",
            "for ADP\n",
            "$ SYM\n",
            "1 NUM\n",
            "billion NUM\n"
          ]
        }
      ]
    },
    {
      "cell_type": "code",
      "source": [
        "for token in doc:\n",
        "  print(token.text,token.pos_,token.lemma_)"
      ],
      "metadata": {
        "colab": {
          "base_uri": "https://localhost:8080/"
        },
        "id": "ewaCieSrie88",
        "outputId": "bd0e3f27-9ac2-4837-9816-919ac7bd873f"
      },
      "execution_count": 8,
      "outputs": [
        {
          "output_type": "stream",
          "name": "stdout",
          "text": [
            "Apple PROPN Apple\n",
            "is AUX be\n",
            "looking VERB look\n",
            "at ADP at\n",
            "buying VERB buy\n",
            "U.K PROPN U.K\n",
            "startup VERB startup\n",
            "for ADP for\n",
            "$ SYM $\n",
            "1 NUM 1\n",
            "billion NUM billion\n"
          ]
        }
      ]
    },
    {
      "cell_type": "code",
      "source": [
        "text = \"\"\"There are broadly two types of extractive summarization tasks depending on what the summarization program focuses on. The first is generic summarization, which focuses on obtaining a generic summary or abstract of the collection (whether documents, or sets of images, or videos, news stories etc.). The second is query relevant summarization, sometimes called query-based summarization, which summarizes objects specific to a query. Summarization systems are able to create both query relevant text summaries and generic machine-generated summaries depending on what the user needs.\n",
        "An example of a summarization problem is document summarization, which attempts to automatically produce an abstract from a given document. Sometimes one might be interested in generating a summary from a single source document, while others can use multiple source documents (for example, a cluster of articles on the same topic). This problem is called multi-document summarization. A related application is summarizing news articles. Imagine a system, which automatically pulls together news articles on a given topic (from the web), and concisely represents the latest news as a summary.\n",
        "Image collection summarization is another application example of automatic summarization. It consists in selecting a representative set of images from a larger set of images.[4] A summary in this context is useful to show the most representative images of results in an image collection exploration system. Video summarization is a related domain, where the system automatically creates a trailer of a long video. This also has applications in consumer or personal videos, where one might want to skip the boring or repetitive actions. Similarly, in surveillance videos, one would want to extract important and suspicious activity, while ignoring all the boring and redundant frames captured \"\"\""
      ],
      "metadata": {
        "id": "Zoxe49e-ie_l"
      },
      "execution_count": 9,
      "outputs": []
    },
    {
      "cell_type": "code",
      "source": [
        "text"
      ],
      "metadata": {
        "colab": {
          "base_uri": "https://localhost:8080/",
          "height": 122
        },
        "id": "2sdVIiBMifB0",
        "outputId": "16794ef8-17e9-4d39-a9bb-9ff3604526c8"
      },
      "execution_count": 10,
      "outputs": [
        {
          "output_type": "execute_result",
          "data": {
            "text/plain": [
              "'There are broadly two types of extractive summarization tasks depending on what the summarization program focuses on. The first is generic summarization, which focuses on obtaining a generic summary or abstract of the collection (whether documents, or sets of images, or videos, news stories etc.). The second is query relevant summarization, sometimes called query-based summarization, which summarizes objects specific to a query. Summarization systems are able to create both query relevant text summaries and generic machine-generated summaries depending on what the user needs.\\nAn example of a summarization problem is document summarization, which attempts to automatically produce an abstract from a given document. Sometimes one might be interested in generating a summary from a single source document, while others can use multiple source documents (for example, a cluster of articles on the same topic). This problem is called multi-document summarization. A related application is summarizing news articles. Imagine a system, which automatically pulls together news articles on a given topic (from the web), and concisely represents the latest news as a summary.\\nImage collection summarization is another application example of automatic summarization. It consists in selecting a representative set of images from a larger set of images.[4] A summary in this context is useful to show the most representative images of results in an image collection exploration system. Video summarization is a related domain, where the system automatically creates a trailer of a long video. This also has applications in consumer or personal videos, where one might want to skip the boring or repetitive actions. Similarly, in surveillance videos, one would want to extract important and suspicious activity, while ignoring all the boring and redundant frames captured '"
            ],
            "application/vnd.google.colaboratory.intrinsic+json": {
              "type": "string"
            }
          },
          "metadata": {},
          "execution_count": 10
        }
      ]
    },
    {
      "cell_type": "code",
      "source": [
        "import spacy\n",
        "from spacy.lang.en.stop_words import STOP_WORDS\n",
        "from string import punctuation"
      ],
      "metadata": {
        "id": "iDUsz8zHifES"
      },
      "execution_count": 11,
      "outputs": []
    },
    {
      "cell_type": "code",
      "source": [
        "stopwords = list(STOP_WORDS)\n",
        "stopwords"
      ],
      "metadata": {
        "colab": {
          "base_uri": "https://localhost:8080/"
        },
        "id": "U7GReeC2ifGx",
        "outputId": "bbf3235a-fd9c-48cf-b92c-fb881d336667"
      },
      "execution_count": 12,
      "outputs": [
        {
          "output_type": "execute_result",
          "data": {
            "text/plain": [
              "['often',\n",
              " 'before',\n",
              " 'almost',\n",
              " 'elsewhere',\n",
              " 'which',\n",
              " 'formerly',\n",
              " 'yet',\n",
              " 'seems',\n",
              " 'someone',\n",
              " 'whereupon',\n",
              " 'therein',\n",
              " 'would',\n",
              " 'somewhere',\n",
              " 'among',\n",
              " \"'d\",\n",
              " 'here',\n",
              " 'where',\n",
              " 'through',\n",
              " 'both',\n",
              " 'see',\n",
              " 'every',\n",
              " 'amongst',\n",
              " 'whatever',\n",
              " 'empty',\n",
              " 'had',\n",
              " 'moreover',\n",
              " 'whereby',\n",
              " 'beside',\n",
              " 'doing',\n",
              " 'those',\n",
              " 'front',\n",
              " 'who',\n",
              " 'himself',\n",
              " 'any',\n",
              " 'off',\n",
              " 'unless',\n",
              " 'wherein',\n",
              " 'her',\n",
              " 'us',\n",
              " 'hereupon',\n",
              " 'over',\n",
              " 'i',\n",
              " 'after',\n",
              " 'anyhow',\n",
              " 'during',\n",
              " 'due',\n",
              " 'beforehand',\n",
              " 'me',\n",
              " 'an',\n",
              " 'itself',\n",
              " 'per',\n",
              " 'herself',\n",
              " 'along',\n",
              " 'anyway',\n",
              " 'put',\n",
              " 'do',\n",
              " 'yourselves',\n",
              " 'towards',\n",
              " 'no',\n",
              " 'as',\n",
              " 'most',\n",
              " 'whence',\n",
              " 'few',\n",
              " 'top',\n",
              " 'meanwhile',\n",
              " 'now',\n",
              " 'ever',\n",
              " 'whom',\n",
              " 'get',\n",
              " 'your',\n",
              " 'than',\n",
              " 'or',\n",
              " 'about',\n",
              " 'toward',\n",
              " 'none',\n",
              " 'made',\n",
              " 'mostly',\n",
              " '’ve',\n",
              " 'not',\n",
              " 'much',\n",
              " 'nine',\n",
              " 'side',\n",
              " 'three',\n",
              " 'might',\n",
              " 'n’t',\n",
              " 'that',\n",
              " 'whither',\n",
              " '‘d',\n",
              " 'though',\n",
              " 'onto',\n",
              " 'mine',\n",
              " 'to',\n",
              " 'call',\n",
              " 'them',\n",
              " \"'ve\",\n",
              " 'twelve',\n",
              " 'seeming',\n",
              " 'has',\n",
              " 'neither',\n",
              " 'hence',\n",
              " 'against',\n",
              " 'more',\n",
              " 'less',\n",
              " 'nobody',\n",
              " 'of',\n",
              " 'it',\n",
              " 'beyond',\n",
              " 'latterly',\n",
              " 'same',\n",
              " 'hereby',\n",
              " 'rather',\n",
              " 'from',\n",
              " 'being',\n",
              " 'nor',\n",
              " 'each',\n",
              " 'latter',\n",
              " 'one',\n",
              " 'full',\n",
              " 'myself',\n",
              " 'former',\n",
              " 'whose',\n",
              " 'thereby',\n",
              " 'are',\n",
              " 'you',\n",
              " 'my',\n",
              " 'third',\n",
              " 'various',\n",
              " 'by',\n",
              " 'themselves',\n",
              " \"'s\",\n",
              " 'noone',\n",
              " 'cannot',\n",
              " 'whoever',\n",
              " 'sixty',\n",
              " 'still',\n",
              " 'via',\n",
              " 'next',\n",
              " 'namely',\n",
              " 'their',\n",
              " 'since',\n",
              " 'first',\n",
              " 'bottom',\n",
              " '’re',\n",
              " 'while',\n",
              " 'part',\n",
              " 'ourselves',\n",
              " 'out',\n",
              " 'afterwards',\n",
              " 'whether',\n",
              " 'really',\n",
              " 'besides',\n",
              " 'just',\n",
              " 'have',\n",
              " 'what',\n",
              " 'can',\n",
              " 'another',\n",
              " 'at',\n",
              " 'become',\n",
              " 'until',\n",
              " 'please',\n",
              " 'anything',\n",
              " 'never',\n",
              " 'is',\n",
              " 'move',\n",
              " 'ten',\n",
              " 'she',\n",
              " '‘s',\n",
              " 'everything',\n",
              " 'yourself',\n",
              " 'becomes',\n",
              " 'many',\n",
              " \"'re\",\n",
              " 'all',\n",
              " 'else',\n",
              " 'together',\n",
              " 'but',\n",
              " 'became',\n",
              " 'nothing',\n",
              " 'say',\n",
              " 'four',\n",
              " 'anyone',\n",
              " 'thence',\n",
              " 'our',\n",
              " 'whole',\n",
              " 'quite',\n",
              " '’s',\n",
              " 'eight',\n",
              " 'regarding',\n",
              " '’m',\n",
              " 'its',\n",
              " 'upon',\n",
              " 'even',\n",
              " 'done',\n",
              " 'last',\n",
              " 'we',\n",
              " 'thereafter',\n",
              " 'fifteen',\n",
              " 'does',\n",
              " 'except',\n",
              " 'sometimes',\n",
              " 'there',\n",
              " 'this',\n",
              " 'too',\n",
              " 'above',\n",
              " 'behind',\n",
              " 'otherwise',\n",
              " 'should',\n",
              " 'make',\n",
              " 'anywhere',\n",
              " 'why',\n",
              " 'thru',\n",
              " 'either',\n",
              " 'name',\n",
              " 'others',\n",
              " 'take',\n",
              " 'he',\n",
              " 'nevertheless',\n",
              " 'show',\n",
              " 'herein',\n",
              " 'some',\n",
              " 'therefore',\n",
              " 'also',\n",
              " 'his',\n",
              " 'once',\n",
              " 'nowhere',\n",
              " 'everywhere',\n",
              " 'perhaps',\n",
              " 'well',\n",
              " 'twenty',\n",
              " 'own',\n",
              " 'around',\n",
              " 'somehow',\n",
              " 'already',\n",
              " 'yours',\n",
              " 'amount',\n",
              " '’d',\n",
              " 'always',\n",
              " 'something',\n",
              " 'further',\n",
              " 'seem',\n",
              " 'down',\n",
              " 'for',\n",
              " 'ours',\n",
              " 'sometime',\n",
              " 'were',\n",
              " 'enough',\n",
              " 'fifty',\n",
              " 'although',\n",
              " 'between',\n",
              " 'in',\n",
              " 'whereas',\n",
              " 'only',\n",
              " 'was',\n",
              " 'seemed',\n",
              " '‘ve',\n",
              " 'keep',\n",
              " 'using',\n",
              " 'hers',\n",
              " 'such',\n",
              " \"'m\",\n",
              " 'they',\n",
              " 'how',\n",
              " 'could',\n",
              " 'because',\n",
              " '‘ll',\n",
              " 'hundred',\n",
              " \"n't\",\n",
              " 'whereafter',\n",
              " 'go',\n",
              " 'serious',\n",
              " 'other',\n",
              " 'becoming',\n",
              " 'hereafter',\n",
              " 'however',\n",
              " 'five',\n",
              " 'may',\n",
              " '‘re',\n",
              " 'whenever',\n",
              " 'into',\n",
              " 'within',\n",
              " 'must',\n",
              " 'the',\n",
              " 're',\n",
              " 'him',\n",
              " 'several',\n",
              " 'will',\n",
              " 'be',\n",
              " 'these',\n",
              " 'on',\n",
              " 'then',\n",
              " 'throughout',\n",
              " 'thus',\n",
              " 'n‘t',\n",
              " 'and',\n",
              " 'eleven',\n",
              " \"'ll\",\n",
              " 'used',\n",
              " 'across',\n",
              " 'alone',\n",
              " 'did',\n",
              " 'six',\n",
              " 'two',\n",
              " 'below',\n",
              " 'without',\n",
              " 'been',\n",
              " 'wherever',\n",
              " 'under',\n",
              " 'up',\n",
              " 'least',\n",
              " 'when',\n",
              " 'thereupon',\n",
              " 'with',\n",
              " 'everyone',\n",
              " '‘m',\n",
              " 'again',\n",
              " 'am',\n",
              " 'so',\n",
              " 'if',\n",
              " 'ca',\n",
              " 'a',\n",
              " 'give',\n",
              " 'forty',\n",
              " 'indeed',\n",
              " 'very',\n",
              " 'back',\n",
              " '’ll']"
            ]
          },
          "metadata": {},
          "execution_count": 12
        }
      ]
    },
    {
      "cell_type": "code",
      "source": [
        "len(stopwords)"
      ],
      "metadata": {
        "colab": {
          "base_uri": "https://localhost:8080/"
        },
        "id": "yF4qjxmUifJO",
        "outputId": "fb264cfd-baef-4d19-b569-154064ce1dd6"
      },
      "execution_count": 13,
      "outputs": [
        {
          "output_type": "execute_result",
          "data": {
            "text/plain": [
              "326"
            ]
          },
          "metadata": {},
          "execution_count": 13
        }
      ]
    },
    {
      "cell_type": "code",
      "source": [
        "nlp = spacy.load('en_core_web_sm')"
      ],
      "metadata": {
        "id": "QEW2JxCRifL1"
      },
      "execution_count": 14,
      "outputs": []
    },
    {
      "cell_type": "code",
      "source": [
        "text"
      ],
      "metadata": {
        "colab": {
          "base_uri": "https://localhost:8080/",
          "height": 122
        },
        "id": "XfZ9qPIuifOT",
        "outputId": "45f4cd47-13e4-4b88-e3af-97e329d26266"
      },
      "execution_count": 15,
      "outputs": [
        {
          "output_type": "execute_result",
          "data": {
            "text/plain": [
              "'There are broadly two types of extractive summarization tasks depending on what the summarization program focuses on. The first is generic summarization, which focuses on obtaining a generic summary or abstract of the collection (whether documents, or sets of images, or videos, news stories etc.). The second is query relevant summarization, sometimes called query-based summarization, which summarizes objects specific to a query. Summarization systems are able to create both query relevant text summaries and generic machine-generated summaries depending on what the user needs.\\nAn example of a summarization problem is document summarization, which attempts to automatically produce an abstract from a given document. Sometimes one might be interested in generating a summary from a single source document, while others can use multiple source documents (for example, a cluster of articles on the same topic). This problem is called multi-document summarization. A related application is summarizing news articles. Imagine a system, which automatically pulls together news articles on a given topic (from the web), and concisely represents the latest news as a summary.\\nImage collection summarization is another application example of automatic summarization. It consists in selecting a representative set of images from a larger set of images.[4] A summary in this context is useful to show the most representative images of results in an image collection exploration system. Video summarization is a related domain, where the system automatically creates a trailer of a long video. This also has applications in consumer or personal videos, where one might want to skip the boring or repetitive actions. Similarly, in surveillance videos, one would want to extract important and suspicious activity, while ignoring all the boring and redundant frames captured '"
            ],
            "application/vnd.google.colaboratory.intrinsic+json": {
              "type": "string"
            }
          },
          "metadata": {},
          "execution_count": 15
        }
      ]
    },
    {
      "cell_type": "code",
      "source": [
        "doc = nlp(text)\n",
        "doc"
      ],
      "metadata": {
        "colab": {
          "base_uri": "https://localhost:8080/"
        },
        "id": "Mj6ljN6CifQ0",
        "outputId": "16a8d0c2-e113-43f9-b438-b0ad25ddd83a"
      },
      "execution_count": 17,
      "outputs": [
        {
          "output_type": "execute_result",
          "data": {
            "text/plain": [
              "There are broadly two types of extractive summarization tasks depending on what the summarization program focuses on. The first is generic summarization, which focuses on obtaining a generic summary or abstract of the collection (whether documents, or sets of images, or videos, news stories etc.). The second is query relevant summarization, sometimes called query-based summarization, which summarizes objects specific to a query. Summarization systems are able to create both query relevant text summaries and generic machine-generated summaries depending on what the user needs.\n",
              "An example of a summarization problem is document summarization, which attempts to automatically produce an abstract from a given document. Sometimes one might be interested in generating a summary from a single source document, while others can use multiple source documents (for example, a cluster of articles on the same topic). This problem is called multi-document summarization. A related application is summarizing news articles. Imagine a system, which automatically pulls together news articles on a given topic (from the web), and concisely represents the latest news as a summary.\n",
              "Image collection summarization is another application example of automatic summarization. It consists in selecting a representative set of images from a larger set of images.[4] A summary in this context is useful to show the most representative images of results in an image collection exploration system. Video summarization is a related domain, where the system automatically creates a trailer of a long video. This also has applications in consumer or personal videos, where one might want to skip the boring or repetitive actions. Similarly, in surveillance videos, one would want to extract important and suspicious activity, while ignoring all the boring and redundant frames captured "
            ]
          },
          "metadata": {},
          "execution_count": 17
        }
      ]
    },
    {
      "cell_type": "code",
      "source": [
        "# Let`s get the tokens from text\n",
        "\n",
        "tokens = [token.text for token in doc]\n",
        "print(tokens)"
      ],
      "metadata": {
        "colab": {
          "base_uri": "https://localhost:8080/"
        },
        "id": "Kfq4SbzvifUM",
        "outputId": "04ed0cd3-f1c5-496b-d8c6-8727d49a3ef5"
      },
      "execution_count": 18,
      "outputs": [
        {
          "output_type": "stream",
          "name": "stdout",
          "text": [
            "['There', 'are', 'broadly', 'two', 'types', 'of', 'extractive', 'summarization', 'tasks', 'depending', 'on', 'what', 'the', 'summarization', 'program', 'focuses', 'on', '.', 'The', 'first', 'is', 'generic', 'summarization', ',', 'which', 'focuses', 'on', 'obtaining', 'a', 'generic', 'summary', 'or', 'abstract', 'of', 'the', 'collection', '(', 'whether', 'documents', ',', 'or', 'sets', 'of', 'images', ',', 'or', 'videos', ',', 'news', 'stories', 'etc', '.', ')', '.', 'The', 'second', 'is', 'query', 'relevant', 'summarization', ',', 'sometimes', 'called', 'query', '-', 'based', 'summarization', ',', 'which', 'summarizes', 'objects', 'specific', 'to', 'a', 'query', '.', 'Summarization', 'systems', 'are', 'able', 'to', 'create', 'both', 'query', 'relevant', 'text', 'summaries', 'and', 'generic', 'machine', '-', 'generated', 'summaries', 'depending', 'on', 'what', 'the', 'user', 'needs', '.', '\\n', 'An', 'example', 'of', 'a', 'summarization', 'problem', 'is', 'document', 'summarization', ',', 'which', 'attempts', 'to', 'automatically', 'produce', 'an', 'abstract', 'from', 'a', 'given', 'document', '.', 'Sometimes', 'one', 'might', 'be', 'interested', 'in', 'generating', 'a', 'summary', 'from', 'a', 'single', 'source', 'document', ',', 'while', 'others', 'can', 'use', 'multiple', 'source', 'documents', '(', 'for', 'example', ',', 'a', 'cluster', 'of', 'articles', 'on', 'the', 'same', 'topic', ')', '.', 'This', 'problem', 'is', 'called', 'multi', '-', 'document', 'summarization', '.', 'A', 'related', 'application', 'is', 'summarizing', 'news', 'articles', '.', 'Imagine', 'a', 'system', ',', 'which', 'automatically', 'pulls', 'together', 'news', 'articles', 'on', 'a', 'given', 'topic', '(', 'from', 'the', 'web', ')', ',', 'and', 'concisely', 'represents', 'the', 'latest', 'news', 'as', 'a', 'summary', '.', '\\n', 'Image', 'collection', 'summarization', 'is', 'another', 'application', 'example', 'of', 'automatic', 'summarization', '.', 'It', 'consists', 'in', 'selecting', 'a', 'representative', 'set', 'of', 'images', 'from', 'a', 'larger', 'set', 'of', 'images.[4', ']', 'A', 'summary', 'in', 'this', 'context', 'is', 'useful', 'to', 'show', 'the', 'most', 'representative', 'images', 'of', 'results', 'in', 'an', 'image', 'collection', 'exploration', 'system', '.', 'Video', 'summarization', 'is', 'a', 'related', 'domain', ',', 'where', 'the', 'system', 'automatically', 'creates', 'a', 'trailer', 'of', 'a', 'long', 'video', '.', 'This', 'also', 'has', 'applications', 'in', 'consumer', 'or', 'personal', 'videos', ',', 'where', 'one', 'might', 'want', 'to', 'skip', 'the', 'boring', 'or', 'repetitive', 'actions', '.', 'Similarly', ',', 'in', 'surveillance', 'videos', ',', 'one', 'would', 'want', 'to', 'extract', 'important', 'and', 'suspicious', 'activity', ',', 'while', 'ignoring', 'all', 'the', 'boring', 'and', 'redundant', 'frames', 'captured']\n"
          ]
        }
      ]
    },
    {
      "cell_type": "code",
      "source": [
        "tokens"
      ],
      "metadata": {
        "colab": {
          "base_uri": "https://localhost:8080/"
        },
        "id": "KMlrA2OpkZ1o",
        "outputId": "ebf0d8a9-86ff-4374-8edb-e93d809610e3"
      },
      "execution_count": 19,
      "outputs": [
        {
          "output_type": "execute_result",
          "data": {
            "text/plain": [
              "['There',\n",
              " 'are',\n",
              " 'broadly',\n",
              " 'two',\n",
              " 'types',\n",
              " 'of',\n",
              " 'extractive',\n",
              " 'summarization',\n",
              " 'tasks',\n",
              " 'depending',\n",
              " 'on',\n",
              " 'what',\n",
              " 'the',\n",
              " 'summarization',\n",
              " 'program',\n",
              " 'focuses',\n",
              " 'on',\n",
              " '.',\n",
              " 'The',\n",
              " 'first',\n",
              " 'is',\n",
              " 'generic',\n",
              " 'summarization',\n",
              " ',',\n",
              " 'which',\n",
              " 'focuses',\n",
              " 'on',\n",
              " 'obtaining',\n",
              " 'a',\n",
              " 'generic',\n",
              " 'summary',\n",
              " 'or',\n",
              " 'abstract',\n",
              " 'of',\n",
              " 'the',\n",
              " 'collection',\n",
              " '(',\n",
              " 'whether',\n",
              " 'documents',\n",
              " ',',\n",
              " 'or',\n",
              " 'sets',\n",
              " 'of',\n",
              " 'images',\n",
              " ',',\n",
              " 'or',\n",
              " 'videos',\n",
              " ',',\n",
              " 'news',\n",
              " 'stories',\n",
              " 'etc',\n",
              " '.',\n",
              " ')',\n",
              " '.',\n",
              " 'The',\n",
              " 'second',\n",
              " 'is',\n",
              " 'query',\n",
              " 'relevant',\n",
              " 'summarization',\n",
              " ',',\n",
              " 'sometimes',\n",
              " 'called',\n",
              " 'query',\n",
              " '-',\n",
              " 'based',\n",
              " 'summarization',\n",
              " ',',\n",
              " 'which',\n",
              " 'summarizes',\n",
              " 'objects',\n",
              " 'specific',\n",
              " 'to',\n",
              " 'a',\n",
              " 'query',\n",
              " '.',\n",
              " 'Summarization',\n",
              " 'systems',\n",
              " 'are',\n",
              " 'able',\n",
              " 'to',\n",
              " 'create',\n",
              " 'both',\n",
              " 'query',\n",
              " 'relevant',\n",
              " 'text',\n",
              " 'summaries',\n",
              " 'and',\n",
              " 'generic',\n",
              " 'machine',\n",
              " '-',\n",
              " 'generated',\n",
              " 'summaries',\n",
              " 'depending',\n",
              " 'on',\n",
              " 'what',\n",
              " 'the',\n",
              " 'user',\n",
              " 'needs',\n",
              " '.',\n",
              " '\\n',\n",
              " 'An',\n",
              " 'example',\n",
              " 'of',\n",
              " 'a',\n",
              " 'summarization',\n",
              " 'problem',\n",
              " 'is',\n",
              " 'document',\n",
              " 'summarization',\n",
              " ',',\n",
              " 'which',\n",
              " 'attempts',\n",
              " 'to',\n",
              " 'automatically',\n",
              " 'produce',\n",
              " 'an',\n",
              " 'abstract',\n",
              " 'from',\n",
              " 'a',\n",
              " 'given',\n",
              " 'document',\n",
              " '.',\n",
              " 'Sometimes',\n",
              " 'one',\n",
              " 'might',\n",
              " 'be',\n",
              " 'interested',\n",
              " 'in',\n",
              " 'generating',\n",
              " 'a',\n",
              " 'summary',\n",
              " 'from',\n",
              " 'a',\n",
              " 'single',\n",
              " 'source',\n",
              " 'document',\n",
              " ',',\n",
              " 'while',\n",
              " 'others',\n",
              " 'can',\n",
              " 'use',\n",
              " 'multiple',\n",
              " 'source',\n",
              " 'documents',\n",
              " '(',\n",
              " 'for',\n",
              " 'example',\n",
              " ',',\n",
              " 'a',\n",
              " 'cluster',\n",
              " 'of',\n",
              " 'articles',\n",
              " 'on',\n",
              " 'the',\n",
              " 'same',\n",
              " 'topic',\n",
              " ')',\n",
              " '.',\n",
              " 'This',\n",
              " 'problem',\n",
              " 'is',\n",
              " 'called',\n",
              " 'multi',\n",
              " '-',\n",
              " 'document',\n",
              " 'summarization',\n",
              " '.',\n",
              " 'A',\n",
              " 'related',\n",
              " 'application',\n",
              " 'is',\n",
              " 'summarizing',\n",
              " 'news',\n",
              " 'articles',\n",
              " '.',\n",
              " 'Imagine',\n",
              " 'a',\n",
              " 'system',\n",
              " ',',\n",
              " 'which',\n",
              " 'automatically',\n",
              " 'pulls',\n",
              " 'together',\n",
              " 'news',\n",
              " 'articles',\n",
              " 'on',\n",
              " 'a',\n",
              " 'given',\n",
              " 'topic',\n",
              " '(',\n",
              " 'from',\n",
              " 'the',\n",
              " 'web',\n",
              " ')',\n",
              " ',',\n",
              " 'and',\n",
              " 'concisely',\n",
              " 'represents',\n",
              " 'the',\n",
              " 'latest',\n",
              " 'news',\n",
              " 'as',\n",
              " 'a',\n",
              " 'summary',\n",
              " '.',\n",
              " '\\n',\n",
              " 'Image',\n",
              " 'collection',\n",
              " 'summarization',\n",
              " 'is',\n",
              " 'another',\n",
              " 'application',\n",
              " 'example',\n",
              " 'of',\n",
              " 'automatic',\n",
              " 'summarization',\n",
              " '.',\n",
              " 'It',\n",
              " 'consists',\n",
              " 'in',\n",
              " 'selecting',\n",
              " 'a',\n",
              " 'representative',\n",
              " 'set',\n",
              " 'of',\n",
              " 'images',\n",
              " 'from',\n",
              " 'a',\n",
              " 'larger',\n",
              " 'set',\n",
              " 'of',\n",
              " 'images.[4',\n",
              " ']',\n",
              " 'A',\n",
              " 'summary',\n",
              " 'in',\n",
              " 'this',\n",
              " 'context',\n",
              " 'is',\n",
              " 'useful',\n",
              " 'to',\n",
              " 'show',\n",
              " 'the',\n",
              " 'most',\n",
              " 'representative',\n",
              " 'images',\n",
              " 'of',\n",
              " 'results',\n",
              " 'in',\n",
              " 'an',\n",
              " 'image',\n",
              " 'collection',\n",
              " 'exploration',\n",
              " 'system',\n",
              " '.',\n",
              " 'Video',\n",
              " 'summarization',\n",
              " 'is',\n",
              " 'a',\n",
              " 'related',\n",
              " 'domain',\n",
              " ',',\n",
              " 'where',\n",
              " 'the',\n",
              " 'system',\n",
              " 'automatically',\n",
              " 'creates',\n",
              " 'a',\n",
              " 'trailer',\n",
              " 'of',\n",
              " 'a',\n",
              " 'long',\n",
              " 'video',\n",
              " '.',\n",
              " 'This',\n",
              " 'also',\n",
              " 'has',\n",
              " 'applications',\n",
              " 'in',\n",
              " 'consumer',\n",
              " 'or',\n",
              " 'personal',\n",
              " 'videos',\n",
              " ',',\n",
              " 'where',\n",
              " 'one',\n",
              " 'might',\n",
              " 'want',\n",
              " 'to',\n",
              " 'skip',\n",
              " 'the',\n",
              " 'boring',\n",
              " 'or',\n",
              " 'repetitive',\n",
              " 'actions',\n",
              " '.',\n",
              " 'Similarly',\n",
              " ',',\n",
              " 'in',\n",
              " 'surveillance',\n",
              " 'videos',\n",
              " ',',\n",
              " 'one',\n",
              " 'would',\n",
              " 'want',\n",
              " 'to',\n",
              " 'extract',\n",
              " 'important',\n",
              " 'and',\n",
              " 'suspicious',\n",
              " 'activity',\n",
              " ',',\n",
              " 'while',\n",
              " 'ignoring',\n",
              " 'all',\n",
              " 'the',\n",
              " 'boring',\n",
              " 'and',\n",
              " 'redundant',\n",
              " 'frames',\n",
              " 'captured']"
            ]
          },
          "metadata": {},
          "execution_count": 19
        }
      ]
    },
    {
      "cell_type": "code",
      "source": [
        "len(tokens)"
      ],
      "metadata": {
        "colab": {
          "base_uri": "https://localhost:8080/"
        },
        "id": "ZGlx8OtykZ4a",
        "outputId": "8546fc30-01c6-453b-c208-48e8728920e8"
      },
      "execution_count": 20,
      "outputs": [
        {
          "output_type": "execute_result",
          "data": {
            "text/plain": [
              "322"
            ]
          },
          "metadata": {},
          "execution_count": 20
        }
      ]
    },
    {
      "cell_type": "code",
      "source": [
        "punctuation"
      ],
      "metadata": {
        "colab": {
          "base_uri": "https://localhost:8080/",
          "height": 35
        },
        "id": "bmanucrskZ69",
        "outputId": "d3b52a87-fea4-45e5-db7d-8b46e5b31967"
      },
      "execution_count": 21,
      "outputs": [
        {
          "output_type": "execute_result",
          "data": {
            "text/plain": [
              "'!\"#$%&\\'()*+,-./:;<=>?@[\\\\]^_`{|}~'"
            ],
            "application/vnd.google.colaboratory.intrinsic+json": {
              "type": "string"
            }
          },
          "metadata": {},
          "execution_count": 21
        }
      ]
    },
    {
      "cell_type": "code",
      "source": [
        "doc"
      ],
      "metadata": {
        "colab": {
          "base_uri": "https://localhost:8080/"
        },
        "id": "AEYnqFshkZ9i",
        "outputId": "ef33be8f-47ea-408a-c447-3801136843db"
      },
      "execution_count": 22,
      "outputs": [
        {
          "output_type": "execute_result",
          "data": {
            "text/plain": [
              "There are broadly two types of extractive summarization tasks depending on what the summarization program focuses on. The first is generic summarization, which focuses on obtaining a generic summary or abstract of the collection (whether documents, or sets of images, or videos, news stories etc.). The second is query relevant summarization, sometimes called query-based summarization, which summarizes objects specific to a query. Summarization systems are able to create both query relevant text summaries and generic machine-generated summaries depending on what the user needs.\n",
              "An example of a summarization problem is document summarization, which attempts to automatically produce an abstract from a given document. Sometimes one might be interested in generating a summary from a single source document, while others can use multiple source documents (for example, a cluster of articles on the same topic). This problem is called multi-document summarization. A related application is summarizing news articles. Imagine a system, which automatically pulls together news articles on a given topic (from the web), and concisely represents the latest news as a summary.\n",
              "Image collection summarization is another application example of automatic summarization. It consists in selecting a representative set of images from a larger set of images.[4] A summary in this context is useful to show the most representative images of results in an image collection exploration system. Video summarization is a related domain, where the system automatically creates a trailer of a long video. This also has applications in consumer or personal videos, where one might want to skip the boring or repetitive actions. Similarly, in surveillance videos, one would want to extract important and suspicious activity, while ignoring all the boring and redundant frames captured "
            ]
          },
          "metadata": {},
          "execution_count": 22
        }
      ]
    },
    {
      "cell_type": "code",
      "source": [
        "# calculating the frequency of each & every word, how many time word is repetation in text\n",
        "\n",
        "word_frequencies = {}\n",
        "\n",
        "for word in doc:\n",
        "  if word.text.lower() not in stopwords:\n",
        "    if word.text.lower() not in punctuation:\n",
        "      if word.text not in word_frequencies.keys():\n",
        "        word_frequencies[word.text] = 1\n",
        "      else:\n",
        "        word_frequencies[word.text] += 1\n"
      ],
      "metadata": {
        "id": "VTY_Q4ZckZ_7"
      },
      "execution_count": 23,
      "outputs": []
    },
    {
      "cell_type": "code",
      "source": [
        "word_frequencies"
      ],
      "metadata": {
        "colab": {
          "base_uri": "https://localhost:8080/"
        },
        "id": "arKWTh6-kaCn",
        "outputId": "5192fe24-e33a-4333-db2e-cad6d0d34534"
      },
      "execution_count": 24,
      "outputs": [
        {
          "output_type": "execute_result",
          "data": {
            "text/plain": [
              "{'broadly': 1,\n",
              " 'types': 1,\n",
              " 'extractive': 1,\n",
              " 'summarization': 11,\n",
              " 'tasks': 1,\n",
              " 'depending': 2,\n",
              " 'program': 1,\n",
              " 'focuses': 2,\n",
              " 'generic': 3,\n",
              " 'obtaining': 1,\n",
              " 'summary': 4,\n",
              " 'abstract': 2,\n",
              " 'collection': 3,\n",
              " 'documents': 2,\n",
              " 'sets': 1,\n",
              " 'images': 3,\n",
              " 'videos': 3,\n",
              " 'news': 4,\n",
              " 'stories': 1,\n",
              " 'etc': 1,\n",
              " 'second': 1,\n",
              " 'query': 4,\n",
              " 'relevant': 2,\n",
              " 'called': 2,\n",
              " 'based': 1,\n",
              " 'summarizes': 1,\n",
              " 'objects': 1,\n",
              " 'specific': 1,\n",
              " 'Summarization': 1,\n",
              " 'systems': 1,\n",
              " 'able': 1,\n",
              " 'create': 1,\n",
              " 'text': 1,\n",
              " 'summaries': 2,\n",
              " 'machine': 1,\n",
              " 'generated': 1,\n",
              " 'user': 1,\n",
              " 'needs': 1,\n",
              " '\\n': 2,\n",
              " 'example': 3,\n",
              " 'problem': 2,\n",
              " 'document': 4,\n",
              " 'attempts': 1,\n",
              " 'automatically': 3,\n",
              " 'produce': 1,\n",
              " 'given': 2,\n",
              " 'interested': 1,\n",
              " 'generating': 1,\n",
              " 'single': 1,\n",
              " 'source': 2,\n",
              " 'use': 1,\n",
              " 'multiple': 1,\n",
              " 'cluster': 1,\n",
              " 'articles': 3,\n",
              " 'topic': 2,\n",
              " 'multi': 1,\n",
              " 'related': 2,\n",
              " 'application': 2,\n",
              " 'summarizing': 1,\n",
              " 'Imagine': 1,\n",
              " 'system': 3,\n",
              " 'pulls': 1,\n",
              " 'web': 1,\n",
              " 'concisely': 1,\n",
              " 'represents': 1,\n",
              " 'latest': 1,\n",
              " 'Image': 1,\n",
              " 'automatic': 1,\n",
              " 'consists': 1,\n",
              " 'selecting': 1,\n",
              " 'representative': 2,\n",
              " 'set': 2,\n",
              " 'larger': 1,\n",
              " 'images.[4': 1,\n",
              " 'context': 1,\n",
              " 'useful': 1,\n",
              " 'results': 1,\n",
              " 'image': 1,\n",
              " 'exploration': 1,\n",
              " 'Video': 1,\n",
              " 'domain': 1,\n",
              " 'creates': 1,\n",
              " 'trailer': 1,\n",
              " 'long': 1,\n",
              " 'video': 1,\n",
              " 'applications': 1,\n",
              " 'consumer': 1,\n",
              " 'personal': 1,\n",
              " 'want': 2,\n",
              " 'skip': 1,\n",
              " 'boring': 2,\n",
              " 'repetitive': 1,\n",
              " 'actions': 1,\n",
              " 'Similarly': 1,\n",
              " 'surveillance': 1,\n",
              " 'extract': 1,\n",
              " 'important': 1,\n",
              " 'suspicious': 1,\n",
              " 'activity': 1,\n",
              " 'ignoring': 1,\n",
              " 'redundant': 1,\n",
              " 'frames': 1,\n",
              " 'captured': 1}"
            ]
          },
          "metadata": {},
          "execution_count": 24
        }
      ]
    },
    {
      "cell_type": "code",
      "source": [
        "max_frequency = max(word_frequencies.values())\n",
        "max_frequency"
      ],
      "metadata": {
        "colab": {
          "base_uri": "https://localhost:8080/"
        },
        "id": "UEdiG_SuwwXK",
        "outputId": "976274cd-854c-4591-ac4f-a6e7b4c200f0"
      },
      "execution_count": 26,
      "outputs": [
        {
          "output_type": "execute_result",
          "data": {
            "text/plain": [
              "11"
            ]
          },
          "metadata": {},
          "execution_count": 26
        }
      ]
    },
    {
      "cell_type": "code",
      "source": [
        "len(word_frequencies)"
      ],
      "metadata": {
        "colab": {
          "base_uri": "https://localhost:8080/"
        },
        "id": "jxs01M58kaE4",
        "outputId": "03ac904a-f5c9-456b-f27c-86c6f9544086"
      },
      "execution_count": 25,
      "outputs": [
        {
          "output_type": "execute_result",
          "data": {
            "text/plain": [
              "103"
            ]
          },
          "metadata": {},
          "execution_count": 25
        }
      ]
    },
    {
      "cell_type": "code",
      "source": [
        "# to get normalized/weighted frequencies,we should divide all frequencies with 11\n",
        "\n",
        "for word in word_frequencies.keys():\n",
        "  word_frequencies[word] = word_frequencies[word]/max_frequency\n"
      ],
      "metadata": {
        "id": "1qwtk-wtkaHa"
      },
      "execution_count": 30,
      "outputs": []
    },
    {
      "cell_type": "code",
      "source": [
        "  word_frequencies"
      ],
      "metadata": {
        "colab": {
          "base_uri": "https://localhost:8080/"
        },
        "id": "sYdDhww8yEFP",
        "outputId": "529a9846-3680-4bbb-96bf-afb2d156c578"
      },
      "execution_count": 31,
      "outputs": [
        {
          "output_type": "execute_result",
          "data": {
            "text/plain": [
              "{'broadly': 6.830134553650708e-05,\n",
              " 'types': 6.830134553650708e-05,\n",
              " 'extractive': 6.830134553650708e-05,\n",
              " 'summarization': 0.0007513148009015778,\n",
              " 'tasks': 6.830134553650708e-05,\n",
              " 'depending': 0.00013660269107301415,\n",
              " 'program': 6.830134553650708e-05,\n",
              " 'focuses': 0.00013660269107301415,\n",
              " 'generic': 0.0002049040366095212,\n",
              " 'obtaining': 6.830134553650708e-05,\n",
              " 'summary': 0.0002732053821460283,\n",
              " 'abstract': 0.00013660269107301415,\n",
              " 'collection': 0.0002049040366095212,\n",
              " 'documents': 0.00013660269107301415,\n",
              " 'sets': 6.830134553650708e-05,\n",
              " 'images': 0.0002049040366095212,\n",
              " 'videos': 0.0002049040366095212,\n",
              " 'news': 0.0002732053821460283,\n",
              " 'stories': 6.830134553650708e-05,\n",
              " 'etc': 6.830134553650708e-05,\n",
              " 'second': 6.830134553650708e-05,\n",
              " 'query': 0.0002732053821460283,\n",
              " 'relevant': 0.00013660269107301415,\n",
              " 'called': 0.00013660269107301415,\n",
              " 'based': 6.830134553650708e-05,\n",
              " 'summarizes': 6.830134553650708e-05,\n",
              " 'objects': 6.830134553650708e-05,\n",
              " 'specific': 6.830134553650708e-05,\n",
              " 'Summarization': 6.830134553650708e-05,\n",
              " 'systems': 6.830134553650708e-05,\n",
              " 'able': 6.830134553650708e-05,\n",
              " 'create': 6.830134553650708e-05,\n",
              " 'text': 6.830134553650708e-05,\n",
              " 'summaries': 0.00013660269107301415,\n",
              " 'machine': 6.830134553650708e-05,\n",
              " 'generated': 6.830134553650708e-05,\n",
              " 'user': 6.830134553650708e-05,\n",
              " 'needs': 6.830134553650708e-05,\n",
              " '\\n': 0.00013660269107301415,\n",
              " 'example': 0.0002049040366095212,\n",
              " 'problem': 0.00013660269107301415,\n",
              " 'document': 0.0002732053821460283,\n",
              " 'attempts': 6.830134553650708e-05,\n",
              " 'automatically': 0.0002049040366095212,\n",
              " 'produce': 6.830134553650708e-05,\n",
              " 'given': 0.00013660269107301415,\n",
              " 'interested': 6.830134553650708e-05,\n",
              " 'generating': 6.830134553650708e-05,\n",
              " 'single': 6.830134553650708e-05,\n",
              " 'source': 0.00013660269107301415,\n",
              " 'use': 6.830134553650708e-05,\n",
              " 'multiple': 6.830134553650708e-05,\n",
              " 'cluster': 6.830134553650708e-05,\n",
              " 'articles': 0.0002049040366095212,\n",
              " 'topic': 0.00013660269107301415,\n",
              " 'multi': 6.830134553650708e-05,\n",
              " 'related': 0.00013660269107301415,\n",
              " 'application': 0.00013660269107301415,\n",
              " 'summarizing': 6.830134553650708e-05,\n",
              " 'Imagine': 6.830134553650708e-05,\n",
              " 'system': 0.0002049040366095212,\n",
              " 'pulls': 6.830134553650708e-05,\n",
              " 'web': 6.830134553650708e-05,\n",
              " 'concisely': 6.830134553650708e-05,\n",
              " 'represents': 6.830134553650708e-05,\n",
              " 'latest': 6.830134553650708e-05,\n",
              " 'Image': 6.830134553650708e-05,\n",
              " 'automatic': 6.830134553650708e-05,\n",
              " 'consists': 6.830134553650708e-05,\n",
              " 'selecting': 6.830134553650708e-05,\n",
              " 'representative': 0.00013660269107301415,\n",
              " 'set': 0.00013660269107301415,\n",
              " 'larger': 6.830134553650708e-05,\n",
              " 'images.[4': 6.830134553650708e-05,\n",
              " 'context': 6.830134553650708e-05,\n",
              " 'useful': 6.830134553650708e-05,\n",
              " 'results': 6.830134553650708e-05,\n",
              " 'image': 6.830134553650708e-05,\n",
              " 'exploration': 6.830134553650708e-05,\n",
              " 'Video': 6.830134553650708e-05,\n",
              " 'domain': 6.830134553650708e-05,\n",
              " 'creates': 6.830134553650708e-05,\n",
              " 'trailer': 6.830134553650708e-05,\n",
              " 'long': 6.830134553650708e-05,\n",
              " 'video': 6.830134553650708e-05,\n",
              " 'applications': 6.830134553650708e-05,\n",
              " 'consumer': 6.830134553650708e-05,\n",
              " 'personal': 6.830134553650708e-05,\n",
              " 'want': 0.00013660269107301415,\n",
              " 'skip': 6.830134553650708e-05,\n",
              " 'boring': 0.00013660269107301415,\n",
              " 'repetitive': 6.830134553650708e-05,\n",
              " 'actions': 6.830134553650708e-05,\n",
              " 'Similarly': 6.830134553650708e-05,\n",
              " 'surveillance': 6.830134553650708e-05,\n",
              " 'extract': 6.830134553650708e-05,\n",
              " 'important': 6.830134553650708e-05,\n",
              " 'suspicious': 6.830134553650708e-05,\n",
              " 'activity': 6.830134553650708e-05,\n",
              " 'ignoring': 6.830134553650708e-05,\n",
              " 'redundant': 6.830134553650708e-05,\n",
              " 'frames': 6.830134553650708e-05,\n",
              " 'captured': 6.830134553650708e-05}"
            ]
          },
          "metadata": {},
          "execution_count": 31
        }
      ]
    },
    {
      "cell_type": "code",
      "source": [
        "sentence_tokens = [sent for sent in doc.sents]\n",
        "sentence_tokens"
      ],
      "metadata": {
        "colab": {
          "base_uri": "https://localhost:8080/"
        },
        "id": "aNlX8sL7yEH0",
        "outputId": "7c927a67-0b1f-49fd-f81e-d5b51b67594f"
      },
      "execution_count": 32,
      "outputs": [
        {
          "output_type": "execute_result",
          "data": {
            "text/plain": [
              "[There are broadly two types of extractive summarization tasks depending on what the summarization program focuses on.,\n",
              " The first is generic summarization, which focuses on obtaining a generic summary or abstract of the collection (whether documents, or sets of images, or videos, news stories etc.).,\n",
              " The second is query relevant summarization, sometimes called query-based summarization, which summarizes objects specific to a query.,\n",
              " Summarization systems are able to create both query relevant text summaries and generic machine-generated summaries depending on what the user needs.,\n",
              " An example of a summarization problem is document summarization, which attempts to automatically produce an abstract from a given document.,\n",
              " Sometimes one might be interested in generating a summary from a single source document, while others can use multiple source documents (for example, a cluster of articles on the same topic).,\n",
              " This problem is called multi-document summarization.,\n",
              " A related application is summarizing news articles.,\n",
              " Imagine a system, which automatically pulls together news articles on a given topic (from the web), and concisely represents the latest news as a summary.,\n",
              " Image collection summarization is another application example of automatic summarization.,\n",
              " It consists in selecting a representative set of images from a larger set of images.[4],\n",
              " A summary in this context is useful to show the most representative images of results in an image collection exploration system.,\n",
              " Video summarization is a related domain, where the system automatically creates a trailer of a long video.,\n",
              " This also has applications in consumer or personal videos, where one might want to skip the boring or repetitive actions.,\n",
              " Similarly, in surveillance videos, one would want to extract important and suspicious activity, while ignoring all the boring and redundant frames captured]"
            ]
          },
          "metadata": {},
          "execution_count": 32
        }
      ]
    },
    {
      "cell_type": "code",
      "source": [
        "# let`s calculate the sentence score\n",
        "\n",
        "sentence_scores = {}\n",
        "\n",
        "for sent in sentence_tokens:\n",
        "  for word in sent:\n",
        "    if word.text.lower() in word_frequencies.keys():\n",
        "      if sent not in sentence_scores.keys():\n",
        "        sentence_scores[sent] = word_frequencies[word.text.lower()]\n",
        "      else:\n",
        "        sentence_scores[sent] += word_frequencies[word.text.lower()]"
      ],
      "metadata": {
        "id": "MEexqGRfyEKU"
      },
      "execution_count": 33,
      "outputs": []
    },
    {
      "cell_type": "code",
      "source": [
        "sentence_scores"
      ],
      "metadata": {
        "colab": {
          "base_uri": "https://localhost:8080/"
        },
        "id": "d-UP9GuWyENw",
        "outputId": "012ea8ee-750e-4188-925d-af2d71e41112"
      },
      "execution_count": 34,
      "outputs": [
        {
          "output_type": "execute_result",
          "data": {
            "text/plain": [
              "{There are broadly two types of extractive summarization tasks depending on what the summarization program focuses on.: 0.0021173417116317197,\n",
              " The first is generic summarization, which focuses on obtaining a generic summary or abstract of the collection (whether documents, or sets of images, or videos, news stories etc.).: 0.0030052592036063116,\n",
              " The second is query relevant summarization, sometimes called query-based summarization, which summarizes objects specific to a query.: 0.0029369578580698045,\n",
              " Summarization systems are able to create both query relevant text summaries and generic machine-generated summaries depending on what the user needs.: 0.0024588484393142556,\n",
              " An example of a summarization problem is document summarization, which attempts to automatically produce an abstract from a given document.: 0.0030052592036063116,\n",
              " Sometimes one might be interested in generating a summary from a single source document, while others can use multiple source documents (for example, a cluster of articles on the same topic).: 0.001912437675022198,\n",
              " This problem is called multi-document summarization.: 0.0013660269107301415,\n",
              " A related application is summarizing news articles.: 0.0008196161464380849,\n",
              " Imagine a system, which automatically pulls together news articles on a given topic (from the web), and concisely represents the latest news as a summary.: 0.002185643057168227,\n",
              " Image collection summarization is another application example of automatic summarization.: 0.002185643057168226,\n",
              " It consists in selecting a representative set of images from a larger set of images.[4]: 0.0008879174919745919,\n",
              " A summary in this context is useful to show the most representative images of results in an image collection exploration system.: 0.0013660269107301413,\n",
              " Video summarization is a related domain, where the system automatically creates a trailer of a long video.: 0.0017075336384126771,\n",
              " This also has applications in consumer or personal videos, where one might want to skip the boring or repetitive actions.: 0.0008879174919745919,\n",
              " Similarly, in surveillance videos, one would want to extract important and suspicious activity, while ignoring all the boring and redundant frames captured: 0.0010928215285841132}"
            ]
          },
          "metadata": {},
          "execution_count": 34
        }
      ]
    },
    {
      "cell_type": "code",
      "source": [
        "# Let`s say our case study was 30% sentence with maximum scores\n",
        "\n",
        "from heapq import nlargest\n"
      ],
      "metadata": {
        "id": "uI5-OuHOkaLE"
      },
      "execution_count": 35,
      "outputs": []
    },
    {
      "cell_type": "code",
      "source": [
        "select_length = int(len(sentence_tokens)*0.4)\n",
        "select_length"
      ],
      "metadata": {
        "colab": {
          "base_uri": "https://localhost:8080/"
        },
        "id": "j2u82_5V6tOd",
        "outputId": "65eb7641-8625-4679-e5ae-b7061cfaf6b1"
      },
      "execution_count": 36,
      "outputs": [
        {
          "output_type": "execute_result",
          "data": {
            "text/plain": [
              "6"
            ]
          },
          "metadata": {},
          "execution_count": 36
        }
      ]
    },
    {
      "cell_type": "code",
      "source": [
        "# we have to select maxiimum 4 sentences out of all sentences\n",
        "\n",
        "summary = nlargest(select_length,sentence_scores,key = sentence_scores.get)\n",
        "summary"
      ],
      "metadata": {
        "colab": {
          "base_uri": "https://localhost:8080/"
        },
        "id": "O2HM95FP6tRY",
        "outputId": "6527ff25-f0ba-4a80-a804-db9350e1a920"
      },
      "execution_count": 37,
      "outputs": [
        {
          "output_type": "execute_result",
          "data": {
            "text/plain": [
              "[The first is generic summarization, which focuses on obtaining a generic summary or abstract of the collection (whether documents, or sets of images, or videos, news stories etc.).,\n",
              " An example of a summarization problem is document summarization, which attempts to automatically produce an abstract from a given document.,\n",
              " The second is query relevant summarization, sometimes called query-based summarization, which summarizes objects specific to a query.,\n",
              " Summarization systems are able to create both query relevant text summaries and generic machine-generated summaries depending on what the user needs.,\n",
              " Imagine a system, which automatically pulls together news articles on a given topic (from the web), and concisely represents the latest news as a summary.,\n",
              " Image collection summarization is another application example of automatic summarization.]"
            ]
          },
          "metadata": {},
          "execution_count": 37
        }
      ]
    },
    {
      "cell_type": "code",
      "source": [
        "sentence_scores"
      ],
      "metadata": {
        "colab": {
          "base_uri": "https://localhost:8080/"
        },
        "id": "zv9sDkFS6tT2",
        "outputId": "b9f5a036-08fa-437e-d264-ee846b1a9bc5"
      },
      "execution_count": 38,
      "outputs": [
        {
          "output_type": "execute_result",
          "data": {
            "text/plain": [
              "{There are broadly two types of extractive summarization tasks depending on what the summarization program focuses on.: 0.0021173417116317197,\n",
              " The first is generic summarization, which focuses on obtaining a generic summary or abstract of the collection (whether documents, or sets of images, or videos, news stories etc.).: 0.0030052592036063116,\n",
              " The second is query relevant summarization, sometimes called query-based summarization, which summarizes objects specific to a query.: 0.0029369578580698045,\n",
              " Summarization systems are able to create both query relevant text summaries and generic machine-generated summaries depending on what the user needs.: 0.0024588484393142556,\n",
              " An example of a summarization problem is document summarization, which attempts to automatically produce an abstract from a given document.: 0.0030052592036063116,\n",
              " Sometimes one might be interested in generating a summary from a single source document, while others can use multiple source documents (for example, a cluster of articles on the same topic).: 0.001912437675022198,\n",
              " This problem is called multi-document summarization.: 0.0013660269107301415,\n",
              " A related application is summarizing news articles.: 0.0008196161464380849,\n",
              " Imagine a system, which automatically pulls together news articles on a given topic (from the web), and concisely represents the latest news as a summary.: 0.002185643057168227,\n",
              " Image collection summarization is another application example of automatic summarization.: 0.002185643057168226,\n",
              " It consists in selecting a representative set of images from a larger set of images.[4]: 0.0008879174919745919,\n",
              " A summary in this context is useful to show the most representative images of results in an image collection exploration system.: 0.0013660269107301413,\n",
              " Video summarization is a related domain, where the system automatically creates a trailer of a long video.: 0.0017075336384126771,\n",
              " This also has applications in consumer or personal videos, where one might want to skip the boring or repetitive actions.: 0.0008879174919745919,\n",
              " Similarly, in surveillance videos, one would want to extract important and suspicious activity, while ignoring all the boring and redundant frames captured: 0.0010928215285841132}"
            ]
          },
          "metadata": {},
          "execution_count": 38
        }
      ]
    },
    {
      "cell_type": "code",
      "source": [
        "# if i need to combine these top 3 sentences then\n",
        "final_summary = [word.text for word in summary]\n",
        "final_summary"
      ],
      "metadata": {
        "colab": {
          "base_uri": "https://localhost:8080/"
        },
        "id": "AK1aZ4qt6tWR",
        "outputId": "2233d82c-d09e-4ceb-e6a3-8c78d79f678c"
      },
      "execution_count": 41,
      "outputs": [
        {
          "output_type": "execute_result",
          "data": {
            "text/plain": [
              "['The first is generic summarization, which focuses on obtaining a generic summary or abstract of the collection (whether documents, or sets of images, or videos, news stories etc.).',\n",
              " 'An example of a summarization problem is document summarization, which attempts to automatically produce an abstract from a given document.',\n",
              " 'The second is query relevant summarization, sometimes called query-based summarization, which summarizes objects specific to a query.',\n",
              " 'Summarization systems are able to create both query relevant text summaries and generic machine-generated summaries depending on what the user needs.\\n',\n",
              " 'Imagine a system, which automatically pulls together news articles on a given topic (from the web), and concisely represents the latest news as a summary.\\n',\n",
              " 'Image collection summarization is another application example of automatic summarization.']"
            ]
          },
          "metadata": {},
          "execution_count": 41
        }
      ]
    },
    {
      "cell_type": "code",
      "source": [
        "print(summary)"
      ],
      "metadata": {
        "colab": {
          "base_uri": "https://localhost:8080/"
        },
        "id": "U0dP5OlV6tYe",
        "outputId": "15a97f3a-2eff-4fac-e7d2-0e1c63ceab51"
      },
      "execution_count": 43,
      "outputs": [
        {
          "output_type": "stream",
          "name": "stdout",
          "text": [
            "[The first is generic summarization, which focuses on obtaining a generic summary or abstract of the collection (whether documents, or sets of images, or videos, news stories etc.)., An example of a summarization problem is document summarization, which attempts to automatically produce an abstract from a given document., The second is query relevant summarization, sometimes called query-based summarization, which summarizes objects specific to a query., Summarization systems are able to create both query relevant text summaries and generic machine-generated summaries depending on what the user needs.\n",
            ", Imagine a system, which automatically pulls together news articles on a given topic (from the web), and concisely represents the latest news as a summary.\n",
            ", Image collection summarization is another application example of automatic summarization.]\n"
          ]
        }
      ]
    },
    {
      "cell_type": "code",
      "source": [],
      "metadata": {
        "id": "UauLk7IY6tb9"
      },
      "execution_count": null,
      "outputs": []
    }
  ]
}